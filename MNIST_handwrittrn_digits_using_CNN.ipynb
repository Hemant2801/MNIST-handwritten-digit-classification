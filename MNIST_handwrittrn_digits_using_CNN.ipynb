{
  "nbformat": 4,
  "nbformat_minor": 0,
  "metadata": {
    "colab": {
      "name": "MNIST handwrittrn digits using CNN.ipynb",
      "provenance": [],
      "collapsed_sections": []
    },
    "kernelspec": {
      "name": "python3",
      "display_name": "Python 3"
    },
    "language_info": {
      "name": "python"
    }
  },
  "cells": [
    {
      "cell_type": "markdown",
      "source": [
        "#Importing the libraries"
      ],
      "metadata": {
        "id": "GxwwbgMiq9i2"
      }
    },
    {
      "cell_type": "code",
      "source": [
        "import numpy as np\n",
        "import tensorflow as tf\n",
        "from tensorflow.keras import models, layers\n",
        "import matplotlib.pyplot as plt\n",
        "from keras.datasets import mnist"
      ],
      "metadata": {
        "id": "w8luMk9osNpD"
      },
      "execution_count": 1,
      "outputs": []
    },
    {
      "cell_type": "markdown",
      "source": [
        "#Importing the dataset"
      ],
      "metadata": {
        "id": "J790QUJFt2i6"
      }
    },
    {
      "cell_type": "code",
      "source": [
        "(X_train, y_train), (X_test, y_test) = mnist.load_data()\n",
        "plt.imshow(X_train[1])\n",
        "plt.axis('off')\n",
        "plt.show()\n",
        "print('Value:',y_train[1])"
      ],
      "metadata": {
        "colab": {
          "base_uri": "https://localhost:8080/",
          "height": 265
        },
        "id": "m7RDx6rysypY",
        "outputId": "94c4d440-3c13-49c2-8b0f-84294c37c420"
      },
      "execution_count": 2,
      "outputs": [
        {
          "output_type": "display_data",
          "data": {
            "image/png": "[encoded data removed]",
            "text/plain": [
              "<Figure size 432x288 with 1 Axes>"
            ]
          },
          "metadata": {
            "needs_background": "light"
          }
        },
        {
          "output_type": "stream",
          "name": "stdout",
          "text": [
            "Value: 0\n"
          ]
        }
      ]
    },
    {
      "cell_type": "code",
      "source": [
        "print('Shape :', X_train.shape, y_train.shape, X_test.shape, y_test.shape)"
      ],
      "metadata": {
        "colab": {
          "base_uri": "https://localhost:8080/"
        },
        "id": "6RM9uR1L5wVk",
        "outputId": "82da1177-853d-4456-9ad7-606b31099e8c"
      },
      "execution_count": 3,
      "outputs": [
        {
          "output_type": "stream",
          "name": "stdout",
          "text": [
            "Shape : (60000, 28, 28) (60000,) (10000, 28, 28) (10000,)\n"
          ]
        }
      ]
    },
    {
      "cell_type": "code",
      "source": [
        "# Reshaping the data\n",
        "X_train = X_train.reshape(X_train.shape[0], 28, 28, 1)\n",
        "X_test = X_test.reshape(X_test.shape[0], 28, 28, 1)\n",
        "\n",
        "X_train = X_train.astype('float32')\n",
        "X_test = X_test.astype('float32')\n",
        "print('Shape :', X_train.shape, y_train.shape, X_test.shape, y_test.shape)"
      ],
      "metadata": {
        "colab": {
          "base_uri": "https://localhost:8080/"
        },
        "id": "e77o_PvzvWy0",
        "outputId": "ac650ce6-6e0b-4969-f42b-36d0831436ff"
      },
      "execution_count": 4,
      "outputs": [
        {
          "output_type": "stream",
          "name": "stdout",
          "text": [
            "Shape : (60000, 28, 28, 1) (60000,) (10000, 28, 28, 1) (10000,)\n"
          ]
        }
      ]
    },
    {
      "cell_type": "code",
      "source": [
        "#Making the value of the array in the range of 0 to 1\n",
        "X_train = X_train/255\n",
        "X_test = X_test/255"
      ],
      "metadata": {
        "id": "_5OlkueTwbri"
      },
      "execution_count": 5,
      "outputs": []
    },
    {
      "cell_type": "code",
      "source": [
        "from tensorflow.keras.utils import to_categorical \n",
        "y_train = to_categorical(y_train, 10) \n",
        "y_test = to_categorical(y_test, 10)"
      ],
      "metadata": {
        "id": "K6Y8oiOVDRMk"
      },
      "execution_count": 6,
      "outputs": []
    },
    {
      "cell_type": "code",
      "source": [
        "print(y_train[0])"
      ],
      "metadata": {
        "colab": {
          "base_uri": "https://localhost:8080/"
        },
        "id": "ETbAUBgjxYki",
        "outputId": "38501f53-a159-4d99-f2f1-a3e9f05b4072"
      },
      "execution_count": 7,
      "outputs": [
        {
          "output_type": "stream",
          "name": "stdout",
          "text": [
            "[0. 0. 0. 0. 0. 1. 0. 0. 0. 0.]\n"
          ]
        }
      ]
    },
    {
      "cell_type": "markdown",
      "source": [
        "#Creating the neural network"
      ],
      "metadata": {
        "id": "5iwxWDq5yDz6"
      }
    },
    {
      "cell_type": "code",
      "source": [
        "model = models.Sequential([\n",
        "    layers.Conv2D(32, (3,3), activation = 'relu', input_shape = (28, 28, 1)),\n",
        "\n",
        "    layers.Conv2D(32, (3,3), activation = 'relu'),\n",
        "    layers.MaxPooling2D(pool_size = (2, 2)),\n",
        "\n",
        "    layers.Conv2D(16, (3,3), activation = 'relu'),\n",
        "    layers.MaxPooling2D(pool_size = (2, 2)),\n",
        "    layers.Dropout(0.25),\n",
        "\n",
        "    layers.Flatten(),\n",
        "    layers.Dense(32, activation = 'relu'),\n",
        "    layers.Dropout(0.5),\n",
        "    layers.Dense(10, activation = 'softmax')\n",
        "])"
      ],
      "metadata": {
        "id": "a1os8AGjylNn"
      },
      "execution_count": 8,
      "outputs": []
    },
    {
      "cell_type": "code",
      "source": [
        "model.summary()"
      ],
      "metadata": {
        "colab": {
          "base_uri": "https://localhost:8080/"
        },
        "id": "YCDY4zQU1DOo",
        "outputId": "9a9fb265-28d7-4b67-cfe6-0fc79278e64d"
      },
      "execution_count": 9,
      "outputs": [
        {
          "output_type": "stream",
          "name": "stdout",
          "text": [
            "Model: \"sequential\"\n",
            "_________________________________________________________________\n",
            " Layer (type)                Output Shape              Param #   \n",
            "=================================================================\n",
            " conv2d (Conv2D)             (None, 26, 26, 32)        320       \n",
            "                                                                 \n",
            " conv2d_1 (Conv2D)           (None, 24, 24, 32)        9248      \n",
            "                                                                 \n",
            " max_pooling2d (MaxPooling2D  (None, 12, 12, 32)       0         \n",
            " )                                                               \n",
            "                                                                 \n",
            " conv2d_2 (Conv2D)           (None, 10, 10, 16)        4624      \n",
            "                                                                 \n",
            " max_pooling2d_1 (MaxPooling  (None, 5, 5, 16)         0         \n",
            " 2D)                                                             \n",
            "                                                                 \n",
            " dropout (Dropout)           (None, 5, 5, 16)          0         \n",
            "                                                                 \n",
            " flatten (Flatten)           (None, 400)               0         \n",
            "                                                                 \n",
            " dense (Dense)               (None, 32)                12832     \n",
            "                                                                 \n",
            " dropout_1 (Dropout)         (None, 32)                0         \n",
            "                                                                 \n",
            " dense_1 (Dense)             (None, 10)                330       \n",
            "                                                                 \n",
            "=================================================================\n",
            "Total params: 27,354\n",
            "Trainable params: 27,354\n",
            "Non-trainable params: 0\n",
            "_________________________________________________________________\n"
          ]
        }
      ]
    },
    {
      "cell_type": "markdown",
      "source": [
        "#Compiling the model"
      ],
      "metadata": {
        "id": "oukSxco_3pib"
      }
    },
    {
      "cell_type": "code",
      "source": [
        "model.compile(\n",
        "    optimizer = 'adam',\n",
        "    loss = 'categorical_crossentropy',\n",
        "    metrics = ['accuracy']\n",
        ")"
      ],
      "metadata": {
        "id": "9hXPpo5b34Vs"
      },
      "execution_count": 10,
      "outputs": []
    },
    {
      "cell_type": "code",
      "source": [
        "history = model.fit(\n",
        "    X_train,\n",
        "    y_train,\n",
        "    epochs = 10,\n",
        "    batch_size = 32,\n",
        "    verbose = 1\n",
        ")"
      ],
      "metadata": {
        "colab": {
          "base_uri": "https://localhost:8080/"
        },
        "id": "GeQlYtAF4Vgq",
        "outputId": "0069cb33-ff16-4f04-edb4-96fb2d32c6a3"
      },
      "execution_count": 11,
      "outputs": [
        {
          "output_type": "stream",
          "name": "stdout",
          "text": [
            "Epoch 1/10\n",
            "1875/1875 [==============================] - 136s 72ms/step - loss: 0.5402 - accuracy: 0.8210\n",
            "Epoch 2/10\n",
            "1875/1875 [==============================] - 115s 61ms/step - loss: 0.2489 - accuracy: 0.9199\n",
            "Epoch 3/10\n",
            "1875/1875 [==============================] - 112s 60ms/step - loss: 0.2043 - accuracy: 0.9335\n",
            "Epoch 4/10\n",
            "1875/1875 [==============================] - 112s 59ms/step - loss: 0.1793 - accuracy: 0.9430\n",
            "Epoch 5/10\n",
            "1875/1875 [==============================] - 151s 80ms/step - loss: 0.1643 - accuracy: 0.9462\n",
            "Epoch 6/10\n",
            "1875/1875 [==============================] - 115s 61ms/step - loss: 0.1591 - accuracy: 0.9485\n",
            "Epoch 7/10\n",
            "1875/1875 [==============================] - 113s 60ms/step - loss: 0.1454 - accuracy: 0.9519\n",
            "Epoch 8/10\n",
            "1875/1875 [==============================] - 110s 59ms/step - loss: 0.1454 - accuracy: 0.9532\n",
            "Epoch 9/10\n",
            "1875/1875 [==============================] - 111s 59ms/step - loss: 0.1347 - accuracy: 0.9557\n",
            "Epoch 10/10\n",
            "1875/1875 [==============================] - 111s 59ms/step - loss: 0.1354 - accuracy: 0.9554\n"
          ]
        }
      ]
    },
    {
      "cell_type": "code",
      "source": [
        "history.params"
      ],
      "metadata": {
        "colab": {
          "base_uri": "https://localhost:8080/"
        },
        "id": "ApJNCCi19qyr",
        "outputId": "24e4eab0-7efa-478d-f980-0dd73cda1176"
      },
      "execution_count": 12,
      "outputs": [
        {
          "output_type": "execute_result",
          "data": {
            "text/plain": [
              "{'epochs': 10, 'steps': 1875, 'verbose': 1}"
            ]
          },
          "metadata": {},
          "execution_count": 12
        }
      ]
    },
    {
      "cell_type": "code",
      "source": [
        "acc = history.history['accuracy']\n",
        "loss = history.history['loss']"
      ],
      "metadata": {
        "id": "Mukl3PSJ9xRg"
      },
      "execution_count": 13,
      "outputs": []
    },
    {
      "cell_type": "code",
      "source": [
        "plt.figure(figsize = (8,7))\n",
        "plt.plot(range(10), acc, label = 'Training_accuracy')\n",
        "plt.plot(range(10), loss, label = 'Loss')\n",
        "plt.legend(loc = 'lower right')\n",
        "plt.title('Training ana Loss')"
      ],
      "metadata": {
        "colab": {
          "base_uri": "https://localhost:8080/",
          "height": 461
        },
        "id": "EskRHTsL96GY",
        "outputId": "b5d0d5da-de8d-485b-daf1-3c5c6b7557ce"
      },
      "execution_count": 14,
      "outputs": [
        {
          "output_type": "execute_result",
          "data": {
            "text/plain": [
              "Text(0.5, 1.0, 'Training ana Loss')"
            ]
          },
          "metadata": {},
          "execution_count": 14
        },
        {
          "output_type": "display_data",
          "data": {
            "image/png": "[encoded data removed]",
            "text/plain": [
              "<Figure size 576x504 with 1 Axes>"
            ]
          },
          "metadata": {
            "needs_background": "light"
          }
        }
      ]
    },
    {
      "cell_type": "markdown",
      "source": [
        "#Making prediction"
      ],
      "metadata": {
        "id": "jdxHmj4-LOXz"
      }
    },
    {
      "cell_type": "code",
      "source": [
        "i = 657\n",
        "img = X_test[i]\n",
        "img = img.reshape((28, 28))\n",
        "print('Image to predict :')\n",
        "plt.imshow(img)\n",
        "plt.axis('off')\n",
        "print('Actual value :', y_test[i])\n",
        "\n",
        "prediction = model.predict(X_test[np.newaxis, i])\n",
        "prediction = prediction.argmax(axis = 1)\n",
        "print('Predicted value :', prediction)"
      ],
      "metadata": {
        "colab": {
          "base_uri": "https://localhost:8080/",
          "height": 300
        },
        "id": "eTYAyV6G-pkq",
        "outputId": "37a60a4d-d1e7-4080-9325-661ec4673398"
      },
      "execution_count": 18,
      "outputs": [
        {
          "output_type": "stream",
          "name": "stdout",
          "text": [
            "Image to predict :\n",
            "Actual value : [0. 0. 0. 1. 0. 0. 0. 0. 0. 0.]\n",
            "Predicted value : [3]\n"
          ]
        },
        {
          "output_type": "display_data",
          "data": {
            "image/png": "[encoded data removed]",
            "text/plain": [
              "<Figure size 432x288 with 1 Axes>"
            ]
          },
          "metadata": {
            "needs_background": "light"
          }
        }
      ]
    },
    {
      "cell_type": "markdown",
      "source": [
        "#Saving the model"
      ],
      "metadata": {
        "id": "w9ZSQPClAoi1"
      }
    },
    {
      "cell_type": "code",
      "source": [
        "model.save('digit_classification.h5')"
      ],
      "metadata": {
        "id": "oZ7aWMQ3LWvm"
      },
      "execution_count": 16,
      "outputs": []
    }
  ]
}